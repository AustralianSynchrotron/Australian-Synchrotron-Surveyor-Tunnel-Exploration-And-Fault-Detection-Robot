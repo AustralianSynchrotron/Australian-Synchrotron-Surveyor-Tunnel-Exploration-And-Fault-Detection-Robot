{
 "cells": [
  {
   "cell_type": "code",
   "execution_count": 36,
   "metadata": {
    "collapsed": false
   },
   "outputs": [],
   "source": [
    "from IPython import display\n",
    "from IPython.html import widgets\n",
    "import imp\n",
    "move = imp.load_source('move', 'move')"
   ]
  },
  {
   "cell_type": "code",
   "execution_count": 53,
   "metadata": {
    "collapsed": false
   },
   "outputs": [],
   "source": [
    "left_bttn = widgets.Button(description='Left')\n",
    "right_bttn = widgets.Button(description='Right')\n",
    "forward_bttn = widgets.Button(description='Forward')\n",
    "backward_bttn = widgets.Button(description='Backward')\n",
    "\n",
    "SPEED = 50\n",
    "\n",
    "def button_clicked(button):\n",
    "    if button is left_bttn:\n",
    "        direction = 'l'\n",
    "    elif button is right_bttn:\n",
    "        direction = 'r'\n",
    "    elif button is forward_bttn:\n",
    "        direction = 'f'\n",
    "    elif button is backward_bttn:\n",
    "        direction = 'b'\n",
    "    \n",
    "    move.move_ass(direction, 2, SPEED)\n",
    "    \n",
    "for button in (left_bttn, right_bttn, forward_bttn, backward_bttn):\n",
    "    button.on_click(button_clicked)"
   ]
  },
  {
   "cell_type": "code",
   "execution_count": 54,
   "metadata": {
    "collapsed": true
   },
   "outputs": [],
   "source": [
    "@widgets.interact\n",
    "def set_speed(speed=(0,100)):\n",
    "    global SPEED\n",
    "    SPEED = speed"
   ]
  },
  {
   "cell_type": "code",
   "execution_count": 55,
   "metadata": {
    "collapsed": false
   },
   "outputs": [
    {
     "name": "stdout",
     "output_type": "stream",
     "text": [
      "moving ffor 2s\n",
      "stopped.\n",
      "moving ffor 2s\n",
      "stopped.\n",
      "moving ffor 2s\n",
      "stopped.\n",
      "moving ffor 2s\n",
      "stopped.\n",
      "moving bfor 2s\n",
      "stopped.\n",
      "moving ffor 2s\n",
      "stopped.\n"
     ]
    }
   ],
   "source": [
    "widgets.Box(children=(left_bttn, right_bttn, forward_bttn, backward_bttn))"
   ]
  },
  {
   "cell_type": "code",
   "execution_count": null,
   "metadata": {
    "collapsed": true
   },
   "outputs": [],
   "source": []
  }
 ],
 "metadata": {
  "kernelspec": {
   "display_name": "Python 2",
   "language": "python",
   "name": "python2"
  },
  "language_info": {
   "codemirror_mode": {
    "name": "ipython",
    "version": 2
   },
   "file_extension": ".py",
   "mimetype": "text/x-python",
   "name": "python",
   "nbconvert_exporter": "python",
   "pygments_lexer": "ipython2",
   "version": "2.7.5+"
  }
 },
 "nbformat": 4,
 "nbformat_minor": 0
}
